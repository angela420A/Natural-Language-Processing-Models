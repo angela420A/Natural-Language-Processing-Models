{
 "cells": [
  {
   "cell_type": "code",
   "execution_count": 1,
   "id": "ccbea25a",
   "metadata": {},
   "outputs": [],
   "source": [
    "import tensorflow as tf"
   ]
  },
  {
   "cell_type": "markdown",
   "id": "cf33985c",
   "metadata": {},
   "source": [
    "## Tokenizer Object\n",
    "\n",
    "`fit_on_texts` updates the internal vocabulary of the `Tokenizer` based on the word frequency in the input texts.\n",
    "\n",
    "- It creates a word index: a dictionary mapping words to integers.\n",
    "- It does **not** transform the texts into sequences — that’s done by `texts_to_sequences`."
   ]
  },
  {
   "cell_type": "code",
   "execution_count": 4,
   "id": "57f54145",
   "metadata": {},
   "outputs": [
    {
     "name": "stdout",
     "output_type": "stream",
     "text": [
      "{'learning': 1, 'i': 2, 'love': 3, 'deep': 4, 'machine': 5, 'is': 6, 'amazing': 7}\n"
     ]
    }
   ],
   "source": [
    "# Tokenizer\n",
    "tokenizer = tf.keras.preprocessing.text.Tokenizer()\n",
    "\n",
    "# texts\n",
    "texts = [\n",
    "    \"I love machine learning\",\n",
    "    \"Deep learning is amazing\",\n",
    "    \"I love deep learning\"\n",
    "]\n",
    "\n",
    "# Token generator\n",
    "tokenizer.fit_on_texts(texts)\n",
    "print(tokenizer.word_index)"
   ]
  },
  {
   "cell_type": "code",
   "execution_count": 5,
   "id": "2a372667",
   "metadata": {},
   "outputs": [
    {
     "name": "stdout",
     "output_type": "stream",
     "text": [
      "[[2, 3, 5, 1], [4, 1, 6, 7], [2, 3, 4, 1]]\n"
     ]
    }
   ],
   "source": [
    "print(tokenizer.texts_to_sequences(texts))"
   ]
  },
  {
   "cell_type": "code",
   "execution_count": null,
   "id": "b734c634",
   "metadata": {},
   "outputs": [],
   "source": []
  }
 ],
 "metadata": {
  "kernelspec": {
   "display_name": ".venv",
   "language": "python",
   "name": "python3"
  },
  "language_info": {
   "codemirror_mode": {
    "name": "ipython",
    "version": 3
   },
   "file_extension": ".py",
   "mimetype": "text/x-python",
   "name": "python",
   "nbconvert_exporter": "python",
   "pygments_lexer": "ipython3",
   "version": "3.12.4"
  }
 },
 "nbformat": 4,
 "nbformat_minor": 5
}
